{
  "cells": [
    {
      "cell_type": "code",
      "execution_count": null,
      "metadata": {
        "colab": {
          "base_uri": "https://localhost:8080/"
        },
        "id": "C0X2HU47JGnN",
        "outputId": "cbbee2b5-6d77-40be-bfc2-ec437ce22d23"
      },
      "outputs": [
        {
          "output_type": "stream",
          "name": "stdout",
          "text": [
            "Drive already mounted at /content/drive; to attempt to forcibly remount, call drive.mount(\"/content/drive\", force_remount=True).\n"
          ]
        }
      ],
      "source": [
        "from google.colab import drive\n",
        "drive.mount('/content/drive')"
      ]
    },
    {
      "cell_type": "code",
      "execution_count": null,
      "metadata": {
        "id": "jaqZWOAoFPRr"
      },
      "outputs": [],
      "source": [
        "!pip install -q transformers"
      ]
    },
    {
      "cell_type": "code",
      "execution_count": null,
      "metadata": {
        "id": "J32UlNe1jKM3"
      },
      "outputs": [],
      "source": [
        "import pandas as pd\n",
        "import numpy as np\n",
        "import os\n",
        "from sklearn.model_selection import train_test_split\n",
        "from transformers import BertTokenizer, TFBertModel\n",
        "import tensorflow as tf\n",
        "import keras"
      ]
    },
    {
      "cell_type": "code",
      "execution_count": null,
      "metadata": {
        "id": "wWXf6WLomI3G"
      },
      "outputs": [],
      "source": [
        "#Functions\n",
        "\n",
        "def BERT_data_processing(raw_data):\n",
        "  processed_data = txt_2_sent(raw_data)\n",
        "  processed_data = null_force_drop(processed_data)\n",
        "\n",
        "  #replace nan values for text features with empty string\n",
        "  processed_data[['country', 'designation', 'region_1', 'region_2', 'province']] = processed_data[['country','designation', 'region_1', 'region_2', 'province']].fillna(\"\")\n",
        "  processed_data.isnull().sum()\n",
        "\n",
        "  processed_data[\"description_features\"] = processed_data[\"description\"] + \" \" + processed_data['country'] + processed_data[\"designation\"] + processed_data[\"region_1\"] + processed_data['region_2'] + processed_data['province']\n",
        "  processed_data[\"description_features\"].iloc[0]\n",
        "  return processed_data\n",
        "\n",
        "#Convert text features into sentences\n",
        "def txt_2_sent(data_to_change):\n",
        "  if \"The country of this wine\" in data_to_change['country'][0]:\n",
        "    return data_to_change\n",
        "  data_to_change['country'] = 'The country of this wine is ' + data_to_change['country'] + '. '\n",
        "  data_to_change['designation'] = 'The designation of this wine is ' + data_to_change['designation'] + '. '\n",
        "  data_to_change['province'] = 'The province of this wine is ' + data_to_change['province'] + '. '\n",
        "  data_to_change['region_1'] = 'The region of this wine is ' + data_to_change['region_1'] + '. '\n",
        "  data_to_change['region_2'] = 'The secondary region of this wine is ' + data_to_change['region_2'] + '. '\n",
        "  data_to_change['variety'] = 'The variety of this wine is ' + data_to_change['variety'] + '. '\n",
        "  data_to_change['winery'] = 'The winery from this wine is ' + data_to_change['winery'] + '. '\n",
        "  data_to_change['points'] = 'The rating given to this wine is ' + data_to_change[\"points\"].astype(\"string\") + \". \"\n",
        "\n",
        "  #replace nan values for text features with empty string\n",
        "  data_to_change[['country', 'designation', 'region_1', 'region_2', 'province']] = data_to_change[['country','designation', 'region_1', 'region_2', 'province']].fillna(\"\")\n",
        "  data_to_change.isnull().sum()\n",
        "\n",
        "  data_to_change[\"description_features\"] = data_to_change[\"description\"] + \" \" + data_to_change['country'] + data_to_change[\"designation\"] + data_to_change[\"region_1\"] + data_to_change['region_2'] + data_to_change['province']\n",
        "  print(data_to_change[\"description_features\"].iloc[0])\n",
        "\n",
        "  return data_to_change\n",
        "\n",
        "\n",
        "# drop null and duplicate values\n",
        "def null_force_drop(data_to_change):\n",
        "  data_to_change.dropna(subset=['price', \"points\"], inplace=True)\n",
        "  data_to_change.drop_duplicates(subset=['description'], inplace=True)\n",
        "  print(data_to_change.nunique())\n",
        "  return data_to_change"
      ]
    },
    {
      "cell_type": "markdown",
      "metadata": {
        "id": "GYLpBnkKi8Hr"
      },
      "source": [
        "**Load Data**"
      ]
    },
    {
      "cell_type": "code",
      "execution_count": null,
      "metadata": {
        "id": "6-KEFBTKjlo1"
      },
      "outputs": [],
      "source": [
        "data = pd.read_csv(\"/content/drive/MyDrive/winemag-data_first150k.csv\")\n",
        "#drop the index column\n",
        "data=data.drop(columns=['Unnamed: 0'])"
      ]
    },
    {
      "cell_type": "code",
      "source": [
        "data['description'] = data['description'].astype(str)\n",
        "data['description_noDigits'] = data['description'].str.replace(r'\\d', '', regex=True)\n",
        "\n",
        "BERT_regression_data = data[[\"description_noDigits\", \"price\"]]"
      ],
      "metadata": {
        "colab": {
          "base_uri": "https://localhost:8080/"
        },
        "id": "UnuXxUPeAgT6",
        "outputId": "5ca9c386-664c-498c-d057-020cb0e2a532"
      },
      "execution_count": null,
      "outputs": [
        {
          "output_type": "stream",
          "name": "stdout",
          "text": [
            "This tremendous 100% varietal wine hails from Oakville and was aged over three years in oak. Juicy red-cherry fruit and a compelling hint of caramel greet the palate, framed by elegant, fine tannins and a subtle minty tone in the background. Balanced and rewarding from start to finish, it has years ahead of it to develop further nuance. Enjoy 2022–2030. The country of this wine is US. The designation of this wine is Martha's Vineyard. The region of this wine is Napa Valley. The secondary region of this wine is Napa. The province of this wine is California. \n"
          ]
        }
      ]
    },
    {
      "cell_type": "markdown",
      "metadata": {
        "id": "Nq4hZN8wixJQ"
      },
      "source": [
        "**Data Cleaning and  Imputing of null values**"
      ]
    },
    {
      "cell_type": "code",
      "execution_count": null,
      "metadata": {
        "colab": {
          "base_uri": "https://localhost:8080/"
        },
        "id": "vdG5Yz2hiH2M",
        "outputId": "68fff5be-3a72-4a9a-eb27-c87a5d7a918e"
      },
      "outputs": [
        {
          "output_type": "execute_result",
          "data": {
            "text/plain": [
              "count    137235.000000\n",
              "mean         33.131482\n",
              "std          36.322536\n",
              "min           4.000000\n",
              "25%          16.000000\n",
              "50%          24.000000\n",
              "75%          40.000000\n",
              "max        2300.000000\n",
              "Name: price, dtype: float64"
            ]
          },
          "metadata": {},
          "execution_count": 7
        }
      ],
      "source": [
        "regression_data = data\n",
        "regression_data[\"price\"].describe()"
      ]
    },
    {
      "cell_type": "code",
      "source": [
        "#data = txt_2_sent(data)\n",
        "#data = null_force_drop(data)\n",
        "regression_data.drop_duplicates(subset=['description'], inplace=True)\n",
        "regression_data.dropna(subset=['price', \"points\"], inplace=True)\n",
        "print(regression_data.nunique())"
      ],
      "metadata": {
        "colab": {
          "base_uri": "https://localhost:8080/"
        },
        "id": "jijBXAloKUWE",
        "outputId": "8588c1eb-93b4-4390-d2cc-99d6147e39ed"
      },
      "execution_count": null,
      "outputs": [
        {
          "output_type": "stream",
          "name": "stdout",
          "text": [
            "country                    47\n",
            "description             89108\n",
            "designation             28346\n",
            "points                     21\n",
            "price                     357\n",
            "province                  447\n",
            "region_1                 1198\n",
            "region_2                   19\n",
            "variety                   619\n",
            "winery                  13852\n",
            "description_features    89108\n",
            "dtype: int64\n"
          ]
        }
      ]
    },
    {
      "cell_type": "code",
      "source": [
        "#Creating an alternate dataset for the non-NLP model\n",
        "non_BERT_regression_data = regression_data\n",
        "\n",
        "# Dropping description category\n",
        "non_BERT_regression_data = non_BERT_regression_data.drop(['description'], axis=1)\n",
        "\n",
        "# Rearranging columns to have price at the end\n",
        "non_BERT_regression_data = non_BERT_regression_data[[c for c in non_BERT_regression_data if c not in ['price']]\n",
        "       + ['price']]\n",
        "non_BERT_regression_data = non_BERT_regression_data.dropna()"
      ],
      "metadata": {
        "id": "XDUbHglwL8QP"
      },
      "execution_count": null,
      "outputs": []
    },
    {
      "cell_type": "code",
      "source": [
        "regression_data"
      ],
      "metadata": {
        "colab": {
          "base_uri": "https://localhost:8080/",
          "height": 1000
        },
        "id": "IbD_QY1sUFsc",
        "outputId": "fcb48f6b-f851-4f87-ce37-fa7b6903b1d6"
      },
      "execution_count": null,
      "outputs": [
        {
          "output_type": "execute_result",
          "data": {
            "text/plain": [
              "                                        country  \\\n",
              "0              The country of this wine is US.    \n",
              "1           The country of this wine is Spain.    \n",
              "2              The country of this wine is US.    \n",
              "3              The country of this wine is US.    \n",
              "4          The country of this wine is France.    \n",
              "...                                         ...   \n",
              "149634     The country of this wine is France.    \n",
              "149635         The country of this wine is US.    \n",
              "149637         The country of this wine is US.    \n",
              "149638  The country of this wine is Argentina.    \n",
              "149639  The country of this wine is Australia.    \n",
              "\n",
              "                                              description  \\\n",
              "0       This tremendous 100% varietal wine hails from ...   \n",
              "1       Ripe aromas of fig, blackberry and cassis are ...   \n",
              "2       Mac Watson honors the memory of a wine once ma...   \n",
              "3       This spent 20 months in 30% new French oak, an...   \n",
              "4       This is the top wine from La Bégude, named aft...   \n",
              "...                                                   ...   \n",
              "149634  Atypically light in body and reticent on the n...   \n",
              "149635  A Syrah-Grenache blend that's dry and rustical...   \n",
              "149637  Outside of the vineyard, wines like this are w...   \n",
              "149638  Heavy and basic, with melon and pineapple arom...   \n",
              "149639  Smooth in the mouth, this Chard starts off wit...   \n",
              "\n",
              "                                              designation  \\\n",
              "0       The designation of this wine is Martha's Viney...   \n",
              "1       The designation of this wine is Carodorum Sele...   \n",
              "2       The designation of this wine is Special Select...   \n",
              "3               The designation of this wine is Reserve.    \n",
              "4            The designation of this wine is La Brûlade.    \n",
              "...                                                   ...   \n",
              "149634                                                      \n",
              "149635     The designation of this wine is Bungalow Red.    \n",
              "149637                                                      \n",
              "149638                                                      \n",
              "149639                                                      \n",
              "\n",
              "                                       points  price  \\\n",
              "0       The rating given to this wine is 96.   235.0   \n",
              "1       The rating given to this wine is 96.   110.0   \n",
              "2       The rating given to this wine is 96.    90.0   \n",
              "3       The rating given to this wine is 96.    65.0   \n",
              "4       The rating given to this wine is 95.    66.0   \n",
              "...                                       ...    ...   \n",
              "149634  The rating given to this wine is 84.    15.0   \n",
              "149635  The rating given to this wine is 84.    15.0   \n",
              "149637  The rating given to this wine is 84.     6.0   \n",
              "149638  The rating given to this wine is 84.     9.0   \n",
              "149639  The rating given to this wine is 84.     8.0   \n",
              "\n",
              "                                               province  \\\n",
              "0             The province of this wine is California.    \n",
              "1         The province of this wine is Northern Spain.    \n",
              "2             The province of this wine is California.    \n",
              "3                 The province of this wine is Oregon.    \n",
              "4               The province of this wine is Provence.    \n",
              "...                                                 ...   \n",
              "149634            The province of this wine is Alsace.    \n",
              "149635        The province of this wine is California.    \n",
              "149637        The province of this wine is California.    \n",
              "149638  The province of this wine is Mendoza Province.    \n",
              "149639   The province of this wine is Australia Other.    \n",
              "\n",
              "                                                 region_1  \\\n",
              "0                The region of this wine is Napa Valley.    \n",
              "1                       The region of this wine is Toro.    \n",
              "2             The region of this wine is Knights Valley.    \n",
              "3          The region of this wine is Willamette Valley.    \n",
              "4                     The region of this wine is Bandol.    \n",
              "...                                                   ...   \n",
              "149634                The region of this wine is Alsace.    \n",
              "149635  The region of this wine is Santa Barbara County.    \n",
              "149637            The region of this wine is California.    \n",
              "149638            The region of this wine is Uco Valley.    \n",
              "149639  The region of this wine is South Eastern Austr...   \n",
              "\n",
              "                                                 region_2  \\\n",
              "0             The secondary region of this wine is Napa.    \n",
              "1                                                           \n",
              "2           The secondary region of this wine is Sonoma.    \n",
              "3       The secondary region of this wine is Willamett...   \n",
              "4                                                           \n",
              "...                                                   ...   \n",
              "149634                                                      \n",
              "149635  The secondary region of this wine is Central C...   \n",
              "149637  The secondary region of this wine is Californi...   \n",
              "149638                                                      \n",
              "149639                                                      \n",
              "\n",
              "                                                 variety  \\\n",
              "0       The variety of this wine is Cabernet Sauvignon.    \n",
              "1            The variety of this wine is Tinta de Toro.    \n",
              "2          The variety of this wine is Sauvignon Blanc.    \n",
              "3               The variety of this wine is Pinot Noir.    \n",
              "4       The variety of this wine is Provence red blend.    \n",
              "...                                                  ...   \n",
              "149634      The variety of this wine is Gewürztraminer.    \n",
              "149635      The variety of this wine is Syrah-Grenache.    \n",
              "149637              The variety of this wine is Merlot.    \n",
              "149638     The variety of this wine is Sauvignon Blanc.    \n",
              "149639          The variety of this wine is Chardonnay.    \n",
              "\n",
              "                                                   winery  \\\n",
              "0                    The winery from this wine is Heitz.    \n",
              "1       The winery from this wine is Bodega Carmen Rod...   \n",
              "2                 The winery from this wine is Macauley.    \n",
              "3                    The winery from this wine is Ponzi.    \n",
              "4       The winery from this wine is Domaine de la Bég...   \n",
              "...                                                   ...   \n",
              "149634     The winery from this wine is W. Gisselbrecht.    \n",
              "149635       The winery from this wine is Casa Barranca.    \n",
              "149637            The winery from this wine is Delicato.    \n",
              "149638   The winery from this wine is Finca El Portillo.    \n",
              "149639       The winery from this wine is Jacob's Creek.    \n",
              "\n",
              "                                     description_features  \n",
              "0       This tremendous 100% varietal wine hails from ...  \n",
              "1       Ripe aromas of fig, blackberry and cassis are ...  \n",
              "2       Mac Watson honors the memory of a wine once ma...  \n",
              "3       This spent 20 months in 30% new French oak, an...  \n",
              "4       This is the top wine from La Bégude, named aft...  \n",
              "...                                                   ...  \n",
              "149634  Atypically light in body and reticent on the n...  \n",
              "149635  A Syrah-Grenache blend that's dry and rustical...  \n",
              "149637  Outside of the vineyard, wines like this are w...  \n",
              "149638  Heavy and basic, with melon and pineapple arom...  \n",
              "149639  Smooth in the mouth, this Chard starts off wit...  \n",
              "\n",
              "[89108 rows x 11 columns]"
            ],
            "text/html": [
              "\n",
              "\n",
              "  <div id=\"df-95fd62b9-c2aa-44fc-b940-ca9f96d54b9f\">\n",
              "    <div class=\"colab-df-container\">\n",
              "      <div>\n",
              "<style scoped>\n",
              "    .dataframe tbody tr th:only-of-type {\n",
              "        vertical-align: middle;\n",
              "    }\n",
              "\n",
              "    .dataframe tbody tr th {\n",
              "        vertical-align: top;\n",
              "    }\n",
              "\n",
              "    .dataframe thead th {\n",
              "        text-align: right;\n",
              "    }\n",
              "</style>\n",
              "<table border=\"1\" class=\"dataframe\">\n",
              "  <thead>\n",
              "    <tr style=\"text-align: right;\">\n",
              "      <th></th>\n",
              "      <th>country</th>\n",
              "      <th>description</th>\n",
              "      <th>designation</th>\n",
              "      <th>points</th>\n",
              "      <th>price</th>\n",
              "      <th>province</th>\n",
              "      <th>region_1</th>\n",
              "      <th>region_2</th>\n",
              "      <th>variety</th>\n",
              "      <th>winery</th>\n",
              "      <th>description_features</th>\n",
              "    </tr>\n",
              "  </thead>\n",
              "  <tbody>\n",
              "    <tr>\n",
              "      <th>0</th>\n",
              "      <td>The country of this wine is US.</td>\n",
              "      <td>This tremendous 100% varietal wine hails from ...</td>\n",
              "      <td>The designation of this wine is Martha's Viney...</td>\n",
              "      <td>The rating given to this wine is 96.</td>\n",
              "      <td>235.0</td>\n",
              "      <td>The province of this wine is California.</td>\n",
              "      <td>The region of this wine is Napa Valley.</td>\n",
              "      <td>The secondary region of this wine is Napa.</td>\n",
              "      <td>The variety of this wine is Cabernet Sauvignon.</td>\n",
              "      <td>The winery from this wine is Heitz.</td>\n",
              "      <td>This tremendous 100% varietal wine hails from ...</td>\n",
              "    </tr>\n",
              "    <tr>\n",
              "      <th>1</th>\n",
              "      <td>The country of this wine is Spain.</td>\n",
              "      <td>Ripe aromas of fig, blackberry and cassis are ...</td>\n",
              "      <td>The designation of this wine is Carodorum Sele...</td>\n",
              "      <td>The rating given to this wine is 96.</td>\n",
              "      <td>110.0</td>\n",
              "      <td>The province of this wine is Northern Spain.</td>\n",
              "      <td>The region of this wine is Toro.</td>\n",
              "      <td></td>\n",
              "      <td>The variety of this wine is Tinta de Toro.</td>\n",
              "      <td>The winery from this wine is Bodega Carmen Rod...</td>\n",
              "      <td>Ripe aromas of fig, blackberry and cassis are ...</td>\n",
              "    </tr>\n",
              "    <tr>\n",
              "      <th>2</th>\n",
              "      <td>The country of this wine is US.</td>\n",
              "      <td>Mac Watson honors the memory of a wine once ma...</td>\n",
              "      <td>The designation of this wine is Special Select...</td>\n",
              "      <td>The rating given to this wine is 96.</td>\n",
              "      <td>90.0</td>\n",
              "      <td>The province of this wine is California.</td>\n",
              "      <td>The region of this wine is Knights Valley.</td>\n",
              "      <td>The secondary region of this wine is Sonoma.</td>\n",
              "      <td>The variety of this wine is Sauvignon Blanc.</td>\n",
              "      <td>The winery from this wine is Macauley.</td>\n",
              "      <td>Mac Watson honors the memory of a wine once ma...</td>\n",
              "    </tr>\n",
              "    <tr>\n",
              "      <th>3</th>\n",
              "      <td>The country of this wine is US.</td>\n",
              "      <td>This spent 20 months in 30% new French oak, an...</td>\n",
              "      <td>The designation of this wine is Reserve.</td>\n",
              "      <td>The rating given to this wine is 96.</td>\n",
              "      <td>65.0</td>\n",
              "      <td>The province of this wine is Oregon.</td>\n",
              "      <td>The region of this wine is Willamette Valley.</td>\n",
              "      <td>The secondary region of this wine is Willamett...</td>\n",
              "      <td>The variety of this wine is Pinot Noir.</td>\n",
              "      <td>The winery from this wine is Ponzi.</td>\n",
              "      <td>This spent 20 months in 30% new French oak, an...</td>\n",
              "    </tr>\n",
              "    <tr>\n",
              "      <th>4</th>\n",
              "      <td>The country of this wine is France.</td>\n",
              "      <td>This is the top wine from La Bégude, named aft...</td>\n",
              "      <td>The designation of this wine is La Brûlade.</td>\n",
              "      <td>The rating given to this wine is 95.</td>\n",
              "      <td>66.0</td>\n",
              "      <td>The province of this wine is Provence.</td>\n",
              "      <td>The region of this wine is Bandol.</td>\n",
              "      <td></td>\n",
              "      <td>The variety of this wine is Provence red blend.</td>\n",
              "      <td>The winery from this wine is Domaine de la Bég...</td>\n",
              "      <td>This is the top wine from La Bégude, named aft...</td>\n",
              "    </tr>\n",
              "    <tr>\n",
              "      <th>...</th>\n",
              "      <td>...</td>\n",
              "      <td>...</td>\n",
              "      <td>...</td>\n",
              "      <td>...</td>\n",
              "      <td>...</td>\n",
              "      <td>...</td>\n",
              "      <td>...</td>\n",
              "      <td>...</td>\n",
              "      <td>...</td>\n",
              "      <td>...</td>\n",
              "      <td>...</td>\n",
              "    </tr>\n",
              "    <tr>\n",
              "      <th>149634</th>\n",
              "      <td>The country of this wine is France.</td>\n",
              "      <td>Atypically light in body and reticent on the n...</td>\n",
              "      <td></td>\n",
              "      <td>The rating given to this wine is 84.</td>\n",
              "      <td>15.0</td>\n",
              "      <td>The province of this wine is Alsace.</td>\n",
              "      <td>The region of this wine is Alsace.</td>\n",
              "      <td></td>\n",
              "      <td>The variety of this wine is Gewürztraminer.</td>\n",
              "      <td>The winery from this wine is W. Gisselbrecht.</td>\n",
              "      <td>Atypically light in body and reticent on the n...</td>\n",
              "    </tr>\n",
              "    <tr>\n",
              "      <th>149635</th>\n",
              "      <td>The country of this wine is US.</td>\n",
              "      <td>A Syrah-Grenache blend that's dry and rustical...</td>\n",
              "      <td>The designation of this wine is Bungalow Red.</td>\n",
              "      <td>The rating given to this wine is 84.</td>\n",
              "      <td>15.0</td>\n",
              "      <td>The province of this wine is California.</td>\n",
              "      <td>The region of this wine is Santa Barbara County.</td>\n",
              "      <td>The secondary region of this wine is Central C...</td>\n",
              "      <td>The variety of this wine is Syrah-Grenache.</td>\n",
              "      <td>The winery from this wine is Casa Barranca.</td>\n",
              "      <td>A Syrah-Grenache blend that's dry and rustical...</td>\n",
              "    </tr>\n",
              "    <tr>\n",
              "      <th>149637</th>\n",
              "      <td>The country of this wine is US.</td>\n",
              "      <td>Outside of the vineyard, wines like this are w...</td>\n",
              "      <td></td>\n",
              "      <td>The rating given to this wine is 84.</td>\n",
              "      <td>6.0</td>\n",
              "      <td>The province of this wine is California.</td>\n",
              "      <td>The region of this wine is California.</td>\n",
              "      <td>The secondary region of this wine is Californi...</td>\n",
              "      <td>The variety of this wine is Merlot.</td>\n",
              "      <td>The winery from this wine is Delicato.</td>\n",
              "      <td>Outside of the vineyard, wines like this are w...</td>\n",
              "    </tr>\n",
              "    <tr>\n",
              "      <th>149638</th>\n",
              "      <td>The country of this wine is Argentina.</td>\n",
              "      <td>Heavy and basic, with melon and pineapple arom...</td>\n",
              "      <td></td>\n",
              "      <td>The rating given to this wine is 84.</td>\n",
              "      <td>9.0</td>\n",
              "      <td>The province of this wine is Mendoza Province.</td>\n",
              "      <td>The region of this wine is Uco Valley.</td>\n",
              "      <td></td>\n",
              "      <td>The variety of this wine is Sauvignon Blanc.</td>\n",
              "      <td>The winery from this wine is Finca El Portillo.</td>\n",
              "      <td>Heavy and basic, with melon and pineapple arom...</td>\n",
              "    </tr>\n",
              "    <tr>\n",
              "      <th>149639</th>\n",
              "      <td>The country of this wine is Australia.</td>\n",
              "      <td>Smooth in the mouth, this Chard starts off wit...</td>\n",
              "      <td></td>\n",
              "      <td>The rating given to this wine is 84.</td>\n",
              "      <td>8.0</td>\n",
              "      <td>The province of this wine is Australia Other.</td>\n",
              "      <td>The region of this wine is South Eastern Austr...</td>\n",
              "      <td></td>\n",
              "      <td>The variety of this wine is Chardonnay.</td>\n",
              "      <td>The winery from this wine is Jacob's Creek.</td>\n",
              "      <td>Smooth in the mouth, this Chard starts off wit...</td>\n",
              "    </tr>\n",
              "  </tbody>\n",
              "</table>\n",
              "<p>89108 rows × 11 columns</p>\n",
              "</div>\n",
              "      <button class=\"colab-df-convert\" onclick=\"convertToInteractive('df-95fd62b9-c2aa-44fc-b940-ca9f96d54b9f')\"\n",
              "              title=\"Convert this dataframe to an interactive table.\"\n",
              "              style=\"display:none;\">\n",
              "\n",
              "  <svg xmlns=\"http://www.w3.org/2000/svg\" height=\"24px\"viewBox=\"0 0 24 24\"\n",
              "       width=\"24px\">\n",
              "    <path d=\"M0 0h24v24H0V0z\" fill=\"none\"/>\n",
              "    <path d=\"M18.56 5.44l.94 2.06.94-2.06 2.06-.94-2.06-.94-.94-2.06-.94 2.06-2.06.94zm-11 1L8.5 8.5l.94-2.06 2.06-.94-2.06-.94L8.5 2.5l-.94 2.06-2.06.94zm10 10l.94 2.06.94-2.06 2.06-.94-2.06-.94-.94-2.06-.94 2.06-2.06.94z\"/><path d=\"M17.41 7.96l-1.37-1.37c-.4-.4-.92-.59-1.43-.59-.52 0-1.04.2-1.43.59L10.3 9.45l-7.72 7.72c-.78.78-.78 2.05 0 2.83L4 21.41c.39.39.9.59 1.41.59.51 0 1.02-.2 1.41-.59l7.78-7.78 2.81-2.81c.8-.78.8-2.07 0-2.86zM5.41 20L4 18.59l7.72-7.72 1.47 1.35L5.41 20z\"/>\n",
              "  </svg>\n",
              "      </button>\n",
              "\n",
              "\n",
              "\n",
              "    <div id=\"df-853abd14-a280-4fa4-9d71-5f54d58371cc\">\n",
              "      <button class=\"colab-df-quickchart\" onclick=\"quickchart('df-853abd14-a280-4fa4-9d71-5f54d58371cc')\"\n",
              "              title=\"Suggest charts.\"\n",
              "              style=\"display:none;\">\n",
              "\n",
              "<svg xmlns=\"http://www.w3.org/2000/svg\" height=\"24px\"viewBox=\"0 0 24 24\"\n",
              "     width=\"24px\">\n",
              "    <g>\n",
              "        <path d=\"M19 3H5c-1.1 0-2 .9-2 2v14c0 1.1.9 2 2 2h14c1.1 0 2-.9 2-2V5c0-1.1-.9-2-2-2zM9 17H7v-7h2v7zm4 0h-2V7h2v10zm4 0h-2v-4h2v4z\"/>\n",
              "    </g>\n",
              "</svg>\n",
              "      </button>\n",
              "    </div>\n",
              "\n",
              "<style>\n",
              "  .colab-df-quickchart {\n",
              "    background-color: #E8F0FE;\n",
              "    border: none;\n",
              "    border-radius: 50%;\n",
              "    cursor: pointer;\n",
              "    display: none;\n",
              "    fill: #1967D2;\n",
              "    height: 32px;\n",
              "    padding: 0 0 0 0;\n",
              "    width: 32px;\n",
              "  }\n",
              "\n",
              "  .colab-df-quickchart:hover {\n",
              "    background-color: #E2EBFA;\n",
              "    box-shadow: 0px 1px 2px rgba(60, 64, 67, 0.3), 0px 1px 3px 1px rgba(60, 64, 67, 0.15);\n",
              "    fill: #174EA6;\n",
              "  }\n",
              "\n",
              "  [theme=dark] .colab-df-quickchart {\n",
              "    background-color: #3B4455;\n",
              "    fill: #D2E3FC;\n",
              "  }\n",
              "\n",
              "  [theme=dark] .colab-df-quickchart:hover {\n",
              "    background-color: #434B5C;\n",
              "    box-shadow: 0px 1px 3px 1px rgba(0, 0, 0, 0.15);\n",
              "    filter: drop-shadow(0px 1px 2px rgba(0, 0, 0, 0.3));\n",
              "    fill: #FFFFFF;\n",
              "  }\n",
              "</style>\n",
              "\n",
              "    <script>\n",
              "      async function quickchart(key) {\n",
              "        const containerElement = document.querySelector('#' + key);\n",
              "        const charts = await google.colab.kernel.invokeFunction(\n",
              "            'suggestCharts', [key], {});\n",
              "      }\n",
              "    </script>\n",
              "\n",
              "      <script>\n",
              "\n",
              "function displayQuickchartButton(domScope) {\n",
              "  let quickchartButtonEl =\n",
              "    domScope.querySelector('#df-853abd14-a280-4fa4-9d71-5f54d58371cc button.colab-df-quickchart');\n",
              "  quickchartButtonEl.style.display =\n",
              "    google.colab.kernel.accessAllowed ? 'block' : 'none';\n",
              "}\n",
              "\n",
              "        displayQuickchartButton(document);\n",
              "      </script>\n",
              "      <style>\n",
              "    .colab-df-container {\n",
              "      display:flex;\n",
              "      flex-wrap:wrap;\n",
              "      gap: 12px;\n",
              "    }\n",
              "\n",
              "    .colab-df-convert {\n",
              "      background-color: #E8F0FE;\n",
              "      border: none;\n",
              "      border-radius: 50%;\n",
              "      cursor: pointer;\n",
              "      display: none;\n",
              "      fill: #1967D2;\n",
              "      height: 32px;\n",
              "      padding: 0 0 0 0;\n",
              "      width: 32px;\n",
              "    }\n",
              "\n",
              "    .colab-df-convert:hover {\n",
              "      background-color: #E2EBFA;\n",
              "      box-shadow: 0px 1px 2px rgba(60, 64, 67, 0.3), 0px 1px 3px 1px rgba(60, 64, 67, 0.15);\n",
              "      fill: #174EA6;\n",
              "    }\n",
              "\n",
              "    [theme=dark] .colab-df-convert {\n",
              "      background-color: #3B4455;\n",
              "      fill: #D2E3FC;\n",
              "    }\n",
              "\n",
              "    [theme=dark] .colab-df-convert:hover {\n",
              "      background-color: #434B5C;\n",
              "      box-shadow: 0px 1px 3px 1px rgba(0, 0, 0, 0.15);\n",
              "      filter: drop-shadow(0px 1px 2px rgba(0, 0, 0, 0.3));\n",
              "      fill: #FFFFFF;\n",
              "    }\n",
              "  </style>\n",
              "\n",
              "      <script>\n",
              "        const buttonEl =\n",
              "          document.querySelector('#df-95fd62b9-c2aa-44fc-b940-ca9f96d54b9f button.colab-df-convert');\n",
              "        buttonEl.style.display =\n",
              "          google.colab.kernel.accessAllowed ? 'block' : 'none';\n",
              "\n",
              "        async function convertToInteractive(key) {\n",
              "          const element = document.querySelector('#df-95fd62b9-c2aa-44fc-b940-ca9f96d54b9f');\n",
              "          const dataTable =\n",
              "            await google.colab.kernel.invokeFunction('convertToInteractive',\n",
              "                                                     [key], {});\n",
              "          if (!dataTable) return;\n",
              "\n",
              "          const docLinkHtml = 'Like what you see? Visit the ' +\n",
              "            '<a target=\"_blank\" href=https://colab.research.google.com/notebooks/data_table.ipynb>data table notebook</a>'\n",
              "            + ' to learn more about interactive tables.';\n",
              "          element.innerHTML = '';\n",
              "          dataTable['output_type'] = 'display_data';\n",
              "          await google.colab.output.renderOutput(dataTable, element);\n",
              "          const docLink = document.createElement('div');\n",
              "          docLink.innerHTML = docLinkHtml;\n",
              "          element.appendChild(docLink);\n",
              "        }\n",
              "      </script>\n",
              "    </div>\n",
              "  </div>\n"
            ]
          },
          "metadata": {},
          "execution_count": 10
        }
      ]
    },
    {
      "cell_type": "code",
      "source": [
        "for i in non_BERT_regression_data.columns:\n",
        "  non_BERT_regression_data[i] = pd.factorize(non_BERT_regression_data[i])[0] + 1\n",
        "  if i == 'price':\n",
        "    break\n",
        "  print(i)"
      ],
      "metadata": {
        "colab": {
          "base_uri": "https://localhost:8080/"
        },
        "id": "0PzNg3e4SxZz",
        "outputId": "a115c748-121e-448c-cbd9-51593b6f1d87"
      },
      "execution_count": null,
      "outputs": [
        {
          "output_type": "stream",
          "name": "stdout",
          "text": [
            "country\n",
            "designation\n",
            "points\n",
            "province\n",
            "region_1\n",
            "region_2\n",
            "variety\n",
            "winery\n",
            "description_features\n"
          ]
        }
      ]
    },
    {
      "cell_type": "code",
      "source": [
        "# Normalizing price category\n",
        "column = \"price\"\n",
        "non_BERT_regression_data[column] = (non_BERT_regression_data[column] - non_BERT_regression_data[column].min()) / (non_BERT_regression_data[column].max() - non_BERT_regression_data[column].min())"
      ],
      "metadata": {
        "id": "1MypxgGo7UEE"
      },
      "execution_count": null,
      "outputs": []
    },
    {
      "cell_type": "markdown",
      "metadata": {
        "id": "xtRL1A7BnVR7"
      },
      "source": [
        "**Feature Selection**"
      ]
    },
    {
      "cell_type": "code",
      "execution_count": null,
      "metadata": {
        "id": "FL3YhUrJoUzJ"
      },
      "outputs": [],
      "source": [
        "# df = data[[\"description_features\", \"price_categorical\"]]\n",
        "# df = data[[\"description\", \"points_categorical\"]]\n",
        "non_BERT_df = non_BERT_regression_data[[c for c in non_BERT_regression_data if c not in ['price']]]\n",
        "non_BERT_price = non_BERT_regression_data[\"price\"]"
      ]
    },
    {
      "cell_type": "code",
      "execution_count": null,
      "metadata": {
        "id": "fRQCDSDUDNR9"
      },
      "outputs": [],
      "source": [
        "data_selection = 10000\n",
        "sample_data = data.sample(data_selection)\n",
        "def generate_training_data(input_data_frame, output_data_frame):\n",
        "  (train_texts, test_texts, train_labels, test_labels) = train_test_split(input_data_frame, output_data_frame, test_size=0.2)\n",
        "  (train_texts, valid_texts, train_labels, valid_labels) = train_test_split(train_texts, train_labels, test_size=0.25)\n",
        "  type(train_texts)\n",
        "  return (train_texts, valid_texts, test_texts, train_labels, valid_labels, test_labels)"
      ]
    },
    {
      "cell_type": "code",
      "source": [
        "(train_texts, test_texts, train_labels, test_labels, valid_texts, valid_labels) = generate_training_data(non_BERT_df, non_BERT_price)"
      ],
      "metadata": {
        "id": "t5MxAj1eHK_p"
      },
      "execution_count": null,
      "outputs": []
    },
    {
      "cell_type": "code",
      "source": [
        "from sklearn import linear_model\n",
        "regr = linear_model.LinearRegression() # Do not use fit_intercept = False if you have removed 1 column after dummy encoding\n",
        "regr.fit(train_texts, train_labels)\n",
        "predicted = regr.predict(valid_texts)"
      ],
      "metadata": {
        "id": "zIHxFXEMH2ST"
      },
      "execution_count": null,
      "outputs": []
    },
    {
      "cell_type": "code",
      "source": [
        "from sklearn.preprocessing import PolynomialFeatures\n",
        "poly_reg = PolynomialFeatures(degree=3)\n",
        "X_poly = poly_reg.fit_transform(train_texts)\n",
        "X_test = poly_reg.fit_transform(test_texts)\n",
        "pol_reg = linear_model.LinearRegression()\n",
        "pol_reg.fit(X_poly, train_labels)\n",
        "\n",
        "predicted = pol_reg.predict(X_poly)\n",
        "print(f'Train RMSE: {np.sqrt(np.mean(np.square(predicted-train_labels)))}')\n",
        "\n",
        "predicted = pol_reg.predict(X_test)\n",
        "print(f'Test RMSE: {np.sqrt(np.mean(np.square(predicted-test_labels)))}')\n"
      ],
      "metadata": {
        "colab": {
          "base_uri": "https://localhost:8080/"
        },
        "id": "XEsH4hMEK_Kj",
        "outputId": "fd0020b8-7526-483c-b85f-547c50bfa7ed"
      },
      "execution_count": null,
      "outputs": [
        {
          "output_type": "stream",
          "name": "stdout",
          "text": [
            "Train RMSE: 0.07342859308719588\n",
            "Test RMSE: 0.07336311444522242\n"
          ]
        }
      ]
    },
    {
      "cell_type": "code",
      "execution_count": null,
      "metadata": {
        "colab": {
          "base_uri": "https://localhost:8080/"
        },
        "id": "3NiPUXfhDqE4",
        "outputId": "179d773f-7471-467c-aa4b-d1b62f90bea3"
      },
      "outputs": [
        {
          "output_type": "stream",
          "name": "stderr",
          "text": [
            "Some weights of the PyTorch model were not used when initializing the TF 2.0 model TFBertModel: ['cls.predictions.transform.dense.bias', 'cls.seq_relationship.bias', 'cls.predictions.bias', 'cls.predictions.transform.LayerNorm.bias', 'cls.predictions.transform.LayerNorm.weight', 'cls.predictions.transform.dense.weight', 'cls.seq_relationship.weight']\n",
            "- This IS expected if you are initializing TFBertModel from a PyTorch model trained on another task or with another architecture (e.g. initializing a TFBertForSequenceClassification model from a BertForPreTraining model).\n",
            "- This IS NOT expected if you are initializing TFBertModel from a PyTorch model that you expect to be exactly identical (e.g. initializing a TFBertForSequenceClassification model from a BertForSequenceClassification model).\n",
            "All the weights of TFBertModel were initialized from the PyTorch model.\n",
            "If your task is similar to the task the model of the checkpoint was trained on, you can already use TFBertModel for predictions without further training.\n"
          ]
        }
      ],
      "source": [
        "model_checkpoint = 'bert-base-cased'\n",
        "bert_tokenizer = BertTokenizer.from_pretrained(model_checkpoint)\n",
        "bert_model = TFBertModel.from_pretrained(model_checkpoint)"
      ]
    },
    {
      "cell_type": "code",
      "source": [
        "percs = pd.qcut(BERT_regression_data[\"description_noDigits\"].str.len(), q=10)\n",
        "percs"
      ],
      "metadata": {
        "colab": {
          "base_uri": "https://localhost:8080/"
        },
        "id": "v4cXcim-aLS6",
        "outputId": "2c0b5a81-da58-4df0-d20e-6b3c4191de25"
      },
      "execution_count": null,
      "outputs": [
        {
          "output_type": "execute_result",
          "data": {
            "text/plain": [
              "0         (332.0, 829.0]\n",
              "1         (297.0, 332.0]\n",
              "2         (273.0, 297.0]\n",
              "3         (332.0, 829.0]\n",
              "4         (332.0, 829.0]\n",
              "               ...      \n",
              "149634    (204.0, 221.0]\n",
              "149635    (204.0, 221.0]\n",
              "149637    (273.0, 297.0]\n",
              "149638    (185.0, 204.0]\n",
              "149639    (254.0, 273.0]\n",
              "Name: description, Length: 89108, dtype: category\n",
              "Categories (10, interval[float64, right]): [(16.999, 158.0] < (158.0, 185.0] < (185.0, 204.0] <\n",
              "                                            (204.0, 221.0] ... (254.0, 273.0] < (273.0, 297.0] <\n",
              "                                            (297.0, 332.0] < (332.0, 829.0]]"
            ]
          },
          "metadata": {},
          "execution_count": 19
        }
      ]
    },
    {
      "cell_type": "code",
      "execution_count": null,
      "metadata": {
        "id": "yFukslfZIGNG"
      },
      "outputs": [],
      "source": [
        "max_length = 335"
      ]
    },
    {
      "cell_type": "code",
      "source": [
        "# Normalizing price category\n",
        "column = \"price\"\n",
        "BERT_regression_data[column] = (BERT_regression_data[column] - BERT_regression_data[column].min()) / (BERT_regression_data[column].max() - BERT_regression_data[column].min())"
      ],
      "metadata": {
        "id": "S92w2AY80eBa"
      },
      "execution_count": null,
      "outputs": []
    },
    {
      "cell_type": "code",
      "source": [
        "sample_data = BERT_regression_data.sample(data_selection)"
      ],
      "metadata": {
        "id": "VV0gQAYG1s0m"
      },
      "execution_count": null,
      "outputs": []
    },
    {
      "cell_type": "code",
      "source": [
        "(train_texts, valid_texts, test_texts, train_labels, valid_labels, test_labels) = generate_training_data(sample_data['description_noDigits'], sample_data['price'])"
      ],
      "metadata": {
        "id": "0CBOqkIvzfVn"
      },
      "execution_count": null,
      "outputs": []
    },
    {
      "cell_type": "code",
      "execution_count": null,
      "metadata": {
        "id": "cvGmZjMIDqHD"
      },
      "outputs": [],
      "source": [
        "train_encodings = bert_tokenizer(list(train_texts), truncation=True, padding=\"max_length\", max_length=max_length, return_tensors='tf')\n",
        "valid_encodings = bert_tokenizer(list(valid_texts), truncation=True, padding=\"max_length\", max_length=max_length, return_tensors='tf')\n",
        "test_encodings = bert_tokenizer(list(test_texts), truncation=True, padding=\"max_length\", max_length=max_length, return_tensors='tf')"
      ]
    },
    {
      "cell_type": "code",
      "execution_count": null,
      "metadata": {
        "id": "2cicTWeIDqKc"
      },
      "outputs": [],
      "source": [
        "def create_bert_model(bert_model,\n",
        "                                 num_classes=1,\n",
        "                                 num_train_layers=0,\n",
        "                                 hidden_size = 32,\n",
        "                                 dropout=0.3,\n",
        "                                 learning_rate=0.00005):\n",
        "    # # Freezing BERT model: lot less room to overfit\n",
        "    # if num_train_layers == 0:\n",
        "    #     # Freeze all layers of pre-trained BERT model\n",
        "    #     bert_model.trainable = False\n",
        "\n",
        "    # elif num_train_layers == 12:\n",
        "    #     # Train all layers of the BERT model\n",
        "    #     bert_model.trainable = True\n",
        "\n",
        "    # else:\n",
        "    #     # Restrict training to the num_train_layers outer transformer layers\n",
        "    #     # print(\"in retrain\")\n",
        "    #     retrain_layers = []\n",
        "\n",
        "    #     for retrain_layer_number in range(num_train_layers):\n",
        "\n",
        "    #         layer_code = '_' + str(11 - retrain_layer_number)\n",
        "    #         retrain_layers.append(layer_code)\n",
        "\n",
        "\n",
        "    #     print('retrain layers: ', retrain_layers)\n",
        "\n",
        "    #     for w in bert_model.weights:\n",
        "    #         if not any([x in w.name for x in retrain_layers]):\n",
        "    #             # print('freezing: ', w)\n",
        "    #             w._trainable = False\n",
        "\n",
        "    bert_model.trainable = True\n",
        "\n",
        "    input_ids = tf.keras.layers.Input(shape=(max_length,), dtype=tf.int64, name='input_ids_layer')\n",
        "    token_type_ids = tf.keras.layers.Input(shape=(max_length,), dtype=tf.int64, name='token_type_ids_layer')\n",
        "    attention_mask = tf.keras.layers.Input(shape=(max_length,), dtype=tf.int64, name='attention_mask_layer')\n",
        "\n",
        "    bert_inputs = {'input_ids': input_ids,\n",
        "                   'token_type_ids': token_type_ids,\n",
        "                   'attention_mask': attention_mask}\n",
        "\n",
        "    bert_out = bert_model(bert_inputs)\n",
        "\n",
        "    cls_token = bert_out[0][:, 0, :]\n",
        "    hidden = tf.keras.layers.Dense(hidden_size, activation='relu', name='hidden_layer')(cls_token)\n",
        "    # hidden = tf.keras.layers.Dense(hidden_size, activation='relu', name='hidden_layer_2')(hidden)\n",
        "\n",
        "    hidden = tf.keras.layers.Dropout(dropout)(hidden)\n",
        "\n",
        "    classification = tf.keras.layers.Dense(num_classes, activation='relu',name='classification_layer')(hidden)\n",
        "\n",
        "    classification_model = tf.keras.Model(inputs=[input_ids, token_type_ids, attention_mask], outputs=[classification])\n",
        "\n",
        "    classification_model.compile(optimizer=tf.keras.optimizers.Adam(learning_rate=learning_rate),\n",
        "        loss = 'mean_squared_error',\n",
        "              metrics = [tf.keras.metrics.RootMeanSquaredError()])\n",
        "\n",
        "    return classification_model"
      ]
    },
    {
      "cell_type": "code",
      "execution_count": null,
      "metadata": {
        "id": "Yzki7QMgJQpp"
      },
      "outputs": [],
      "source": [
        "cls_bert_model = create_bert_model(bert_model, hidden_size=256)"
      ]
    },
    {
      "cell_type": "code",
      "execution_count": null,
      "metadata": {
        "id": "XAL8zsqeJQ4W"
      },
      "outputs": [],
      "source": [
        "# pooler_bert_model.summary()"
      ]
    },
    {
      "cell_type": "code",
      "source": [
        "# keras.utils.plot_model(cls_bert_model, show_shapes=False, show_dtype=False, show_layer_names=True, dpi=90)"
      ],
      "metadata": {
        "id": "qUkxRRqLtflv"
      },
      "execution_count": null,
      "outputs": []
    },
    {
      "cell_type": "code",
      "execution_count": null,
      "metadata": {
        "colab": {
          "base_uri": "https://localhost:8080/"
        },
        "id": "BT1Rowt1JcA3",
        "outputId": "4e811ba5-8c39-4b62-cb05-560a5a36bb92"
      },
      "outputs": [
        {
          "output_type": "stream",
          "name": "stdout",
          "text": [
            "Epoch 1/10\n"
          ]
        },
        {
          "output_type": "stream",
          "name": "stderr",
          "text": [
            "WARNING:tensorflow:Gradients do not exist for variables ['tf_bert_model/bert/pooler/dense/kernel:0', 'tf_bert_model/bert/pooler/dense/bias:0'] when minimizing the loss. If you're using `model.compile()`, did you forget to provide a `loss` argument?\n",
            "WARNING:tensorflow:Gradients do not exist for variables ['tf_bert_model/bert/pooler/dense/kernel:0', 'tf_bert_model/bert/pooler/dense/bias:0'] when minimizing the loss. If you're using `model.compile()`, did you forget to provide a `loss` argument?\n",
            "WARNING:tensorflow:Gradients do not exist for variables ['tf_bert_model/bert/pooler/dense/kernel:0', 'tf_bert_model/bert/pooler/dense/bias:0'] when minimizing the loss. If you're using `model.compile()`, did you forget to provide a `loss` argument?\n",
            "WARNING:tensorflow:Gradients do not exist for variables ['tf_bert_model/bert/pooler/dense/kernel:0', 'tf_bert_model/bert/pooler/dense/bias:0'] when minimizing the loss. If you're using `model.compile()`, did you forget to provide a `loss` argument?\n"
          ]
        },
        {
          "output_type": "stream",
          "name": "stdout",
          "text": [
            "1/1 [==============================] - 60s 60s/step - loss: 0.6051 - root_mean_squared_error: 0.7779 - val_loss: 0.0056 - val_root_mean_squared_error: 0.0748\n",
            "Epoch 2/10\n",
            "1/1 [==============================] - 1s 721ms/step - loss: 0.0073 - root_mean_squared_error: 0.0853 - val_loss: 0.0064 - val_root_mean_squared_error: 0.0801\n",
            "Epoch 3/10\n",
            "1/1 [==============================] - 1s 694ms/step - loss: 0.0069 - root_mean_squared_error: 0.0829 - val_loss: 0.0064 - val_root_mean_squared_error: 0.0801\n",
            "Epoch 4/10\n",
            "1/1 [==============================] - 1s 709ms/step - loss: 0.0069 - root_mean_squared_error: 0.0829 - val_loss: 0.0064 - val_root_mean_squared_error: 0.0801\n",
            "Epoch 5/10\n",
            "1/1 [==============================] - 1s 712ms/step - loss: 0.0069 - root_mean_squared_error: 0.0829 - val_loss: 0.0064 - val_root_mean_squared_error: 0.0801\n",
            "Epoch 6/10\n",
            "1/1 [==============================] - 1s 643ms/step - loss: 0.0069 - root_mean_squared_error: 0.0829 - val_loss: 0.0064 - val_root_mean_squared_error: 0.0801\n",
            "Epoch 7/10\n",
            "1/1 [==============================] - 1s 712ms/step - loss: 0.0069 - root_mean_squared_error: 0.0829 - val_loss: 0.0064 - val_root_mean_squared_error: 0.0801\n",
            "Epoch 8/10\n",
            "1/1 [==============================] - 1s 707ms/step - loss: 0.0069 - root_mean_squared_error: 0.0829 - val_loss: 0.0064 - val_root_mean_squared_error: 0.0801\n",
            "Epoch 9/10\n",
            "1/1 [==============================] - 1s 660ms/step - loss: 0.0069 - root_mean_squared_error: 0.0829 - val_loss: 0.0064 - val_root_mean_squared_error: 0.0801\n",
            "Epoch 10/10\n",
            "1/1 [==============================] - 1s 705ms/step - loss: 0.0069 - root_mean_squared_error: 0.0829 - val_loss: 0.0064 - val_root_mean_squared_error: 0.0801\n"
          ]
        },
        {
          "output_type": "execute_result",
          "data": {
            "text/plain": [
              "<keras.callbacks.History at 0x7db42721b760>"
            ]
          },
          "metadata": {},
          "execution_count": 30
        }
      ],
      "source": [
        "cls_bert_model.fit(x=[train_encodings.input_ids, train_encodings.token_type_ids, train_encodings.attention_mask],\n",
        "                                                  y=np.asarray(train_labels),\n",
        "                                                  validation_split=0.2,\n",
        "                                                  shuffle=True,\n",
        "                                                  batch_size=32,\n",
        "                                                  validation_batch_size=32,\n",
        "                                                  epochs=10)\n",
        "# validation_data=([valid_encodings.input_ids, valid_encodings.token_type_ids, valid_encodings.attention_mask],\n",
        "#                                                   np.asarray(valid_labels)),"
      ]
    },
    {
      "cell_type": "code",
      "execution_count": null,
      "metadata": {
        "id": "8Hb_76IkJcFa"
      },
      "outputs": [],
      "source": [
        "train_predictions = cls_bert_model.predict([train_encodings.input_ids, train_encodings.token_type_ids, train_encodings.attention_mask])\n",
        "### END YOUR CODE\n",
        "\n",
        "#now we need to get the highest probability in the distribution for each prediction\n",
        "#and store that in a tf.Tensor\n",
        "train_predictions = tf.argmax(train_predictions, axis=-1)\n",
        "print(f'Train RMSE: {np.sqrt(np.mean(np.square(train_predictions-train_labels)))}')\n",
        "\n",
        "\n",
        "valid_predictions = cls_bert_model.predict([valid_encodings.input_ids, valid_encodings.token_type_ids, valid_encodings.attention_mask])\n",
        "### END YOUR CODE\n",
        "\n",
        "#now we need to get the highest probability in the distribution for each prediction\n",
        "#and store that in a tf.Tensor\n",
        "valid_predictions = tf.argmax(valid_predictions, axis=-1)\n",
        "print(f'Valid RMSE: {np.sqrt(np.mean(np.square(valid_predictions-valid_labels)))}')"
      ]
    },
    {
      "cell_type": "code",
      "execution_count": null,
      "metadata": {
        "id": "6N2kUUGYJcDD"
      },
      "outputs": [],
      "source": [
        "score = pooler_bert_model.evaluate([valid_encodings.input_ids, valid_encodings.token_type_ids, valid_encodings.attention_mask],\n",
        "                                                  np.asarray(valid_labels))\n",
        "\n",
        "print('Valid loss:', score[0])\n",
        "print('Valid accuracy:', score[1])"
      ]
    }
  ],
  "metadata": {
    "accelerator": "GPU",
    "colab": {
      "provenance": []
    },
    "kernelspec": {
      "display_name": "Python 3",
      "name": "python3"
    },
    "language_info": {
      "name": "python"
    }
  },
  "nbformat": 4,
  "nbformat_minor": 0
}